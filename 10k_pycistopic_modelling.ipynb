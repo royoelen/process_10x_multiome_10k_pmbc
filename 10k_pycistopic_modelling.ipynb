{
 "cells": [
  {
   "cell_type": "code",
   "execution_count": null,
   "id": "bf9f8d31-3dca-40d3-8383-9e5ad24fc7c4",
   "metadata": {},
   "outputs": [],
   "source": [
    "\"\"\"\n",
    "\n",
    "10k_pycistopic_modelling.ipynb\n",
    "\n",
    "This script is used to create the pycistopic object\n",
    "\n",
    "authors: Roy Oelen\n",
    "\n",
    "\"\"\""
   ]
  },
  {
   "cell_type": "code",
   "execution_count": 25,
   "id": "e9933c55-05d6-4d67-bc83-2c4fe88897e5",
   "metadata": {},
   "outputs": [],
   "source": [
    "# imports\n",
    "from pycisTopic.cistopic_class import CistopicObject\n",
    "from scipy.sparse import csr_matrix\n",
    "from scipy.io import mmread\n",
    "import gzip\n",
    "from sklearn.preprocessing import binarize\n",
    "import pandas as pd\n",
    "import os\n",
    "from pycisTopic.lda_models import run_cgs_models_mallet\n",
    "from numpy.random import choice\n",
    "from pycisTopic.lda_models import evaluate_models\n",
    "import pickle\n",
    "import numpy as np\n",
    "import glob\n",
    "import re\n",
    "from pycisTopic.topic_binarization import binarize_topics\n",
    "from pycisTopic.topic_qc import compute_topic_metrics, plot_topic_qc, topic_annotation\n",
    "import matplotlib.pyplot as plt\n",
    "from pycisTopic.utils import fig2img\n",
    "from pycisTopic.clust_vis import (\n",
    "    find_clusters,\n",
    "    run_umap,\n",
    "    run_tsne,\n",
    "    plot_metadata,\n",
    "    plot_topic,\n",
    "    cell_topic_heatmap\n",
    ")\n"
   ]
  },
  {
   "cell_type": "code",
   "execution_count": 3,
   "id": "5cabb2d4-214c-44d7-8738-80915fee70d2",
   "metadata": {},
   "outputs": [],
   "source": [
    "#######################################\n",
    "# read the openness to nucleus matrix #\n",
    "#######################################\n",
    "\n",
    "# location of matrix\n",
    "fragment_matrix_loc = '/groups/umcg-franke-scrna/tmp04/external_datasets/10x_multiome_10k_pbmcs/pycistopic/deconstructed/matrix.mtx.gz'\n",
    "with open(fragment_matrix_loc, 'rb') as f:\n",
    "    coo_fragment_matrix = mmread(fragment_matrix_loc)\n",
    "\n",
    "# convert to csr format\n",
    "fragment_matrix = csr_matrix(coo_fragment_matrix)\n"
   ]
  },
  {
   "cell_type": "code",
   "execution_count": 4,
   "id": "f90eb7f3-50b4-4aa1-9f06-96732fd9c8e3",
   "metadata": {},
   "outputs": [],
   "source": [
    "# locations\n",
    "barcodes_loc = '/groups/umcg-franke-scrna/tmp04/external_datasets/10x_multiome_10k_pbmcs/pycistopic/deconstructed/barcodes.tsv.gz'\n",
    "features_loc = '/groups/umcg-franke-scrna/tmp04/external_datasets/10x_multiome_10k_pbmcs/pycistopic/deconstructed/features.tsv.gz'\n",
    "\n",
    "# load region names\n",
    "region_names_file = gzip.open(features_loc, 'rb')\n",
    "region_names = pd.read_csv(region_names_file, sep='\\t', header=None).iloc[:,0].to_list()\n",
    "region_names = [i.replace('-', ':', 1) for i in region_names]\n",
    "\n",
    "# Read cell names\n",
    "cell_names_file = gzip.open(barcodes_loc, 'rb')\n",
    "cell_names = pd.read_csv(cell_names_file, sep='\\t', header=None).iloc[:,0].to_list()\n"
   ]
  },
  {
   "cell_type": "code",
   "execution_count": 14,
   "id": "f6db6e31-a1c3-4697-a541-de0031512983",
   "metadata": {},
   "outputs": [],
   "source": [
    "#########################################\n",
    "# set up path to all the fragment files #\n",
    "#########################################\n",
    "\n",
    "# add the path\n",
    "fragment_files = ['/groups/umcg-franke-scrna/tmp04/external_datasets/10x_multiome_10k_pbmcs/rounding/10k_PBMC_Multiome_nextgem_Chromium_X_rounded_atac_fragments.tsv.gz']\n"
   ]
  },
  {
   "cell_type": "code",
   "execution_count": 15,
   "id": "0f7ef0ab-9a3f-4ac2-8d43-f6c0bba16faf",
   "metadata": {},
   "outputs": [],
   "source": [
    "#############################\n",
    "# read the nucleus metadata #\n",
    "#############################\n",
    "\n",
    "# location of the metadata for ATAC\n",
    "atac_cell_metadata_loc = '/groups/umcg-franke-scrna/tmp04/external_datasets/10x_multiome_10k_pbmcs/pycistopic/deconstructed/metadata.tsv.gz'\n",
    "atac_cell_metadata = pd.read_csv(atac_cell_metadata_loc, sep = '\\t', low_memory = False)\n",
    "# location of the metadata for RNA\n",
    "rna_cell_metadata_loc = '/groups/umcg-franke-scrna/tmp04/external_datasets/10x_multiome_10k_pbmcs/seurat/10k_seurat_annotated_metadata.tsv.gz'\n",
    "rna_cell_metadata = pd.read_csv(rna_cell_metadata_loc, sep = '\\t', low_memory = False)\n",
    "# merge what we find interesting\n",
    "cell_metadata = atac_cell_metadata.merge(rna_cell_metadata[['barcode_1', \n",
    "                                                            'nCount_RNA', \n",
    "                                                            'nFeature_RNA', \n",
    "                                                            'nCount_SCT', \n",
    "                                                            'nFeature_SCT', \n",
    "                                                            'SCT_snn_res.1.2', \n",
    "                                                            'predicted.celltype.azi.l1', \n",
    "                                                            'predicted.celltype.azi.l1.score', \n",
    "                                                            'predicted.celltype.azi.l2', \n",
    "                                                            'predicted.celltype.azi.l2.score', \n",
    "                                                            'predicted.celltype.azi.l3', \n",
    "                                                            'predicted.celltype.azi.l3.score']], how = 'left', left_on = 'bc', right_on = 'barcode_1')\n",
    "# Subset cell metadata \n",
    "cell_metadata = cell_metadata[cell_metadata.bc.isin(cell_names)]\n",
    "# Filter cell names\n",
    "cell_names = cell_metadata.bc.to_list()\n",
    "# Names as rownames \n",
    "cell_metadata.index = cell_metadata.bc\n"
   ]
  },
  {
   "cell_type": "code",
   "execution_count": 17,
   "id": "46a31b61-9b57-4b38-ba4c-6b93a361b041",
   "metadata": {},
   "outputs": [],
   "source": [
    "#####################################\n",
    "# binarize the accessibility matrix #\n",
    "#####################################\n",
    "\n",
    "# binarization of accessibility matrix\n",
    "fragment_matrix_binarized = binarize(fragment_matrix, threshold=0)\n"
   ]
  },
  {
   "cell_type": "code",
   "execution_count": 21,
   "id": "3c934f2f-d935-4200-840c-024d4a33da56",
   "metadata": {},
   "outputs": [],
   "source": [
    "##########################################\n",
    "# create metadata for all of the regions #\n",
    "##########################################\n",
    "\n",
    "# location of the cpeaks annotation\n",
    "cpeaks_annotation_loc = '/groups/umcg-franke-scrna/tmp04/external_datasets/cPeaks/cPeaks_info.tsv'\n",
    "# read the annotations\n",
    "cpeaks_annotation = pd.read_csv(cpeaks_annotation_loc, sep = ' ', low_memory = False)\n",
    "# add a name column\n",
    "cpeaks_annotation['name'] = cpeaks_annotation['chr_hg38'].astype(str) + ':' + cpeaks_annotation['start_hg38'].astype(str) + '-' + cpeaks_annotation['end_hg38'].astype(str)\n",
    "\n",
    "# Subset region metadata metadata \n",
    "cpeaks_annotation = cpeaks_annotation[cpeaks_annotation.name.isin(region_names)]\n",
    "# Names as rownames \n",
    "cpeaks_annotation.index = cpeaks_annotation.name\n"
   ]
  },
  {
   "cell_type": "code",
   "execution_count": 23,
   "id": "3e1c0ed7-682e-4d93-8230-1db127b75586",
   "metadata": {},
   "outputs": [],
   "source": [
    "#############################\n",
    "# create pycistopic object #\n",
    "#############################\n",
    "\n",
    "# construct object\n",
    "cistopic_obj = CistopicObject(\n",
    "    fragment_matrix=fragment_matrix,\n",
    "    binary_matrix=fragment_matrix_binarized,\n",
    "    cell_names=cell_names,\n",
    "    region_names=region_names,\n",
    "    region_data=cpeaks_annotation,\n",
    "    cell_data=cell_metadata,\n",
    "    path_to_fragments=fragment_files,\n",
    "    project='10x_10k'\n",
    ")\n"
   ]
  },
  {
   "cell_type": "code",
   "execution_count": 24,
   "id": "cd22ace3-a779-4a43-abdd-3e72ac88d2e1",
   "metadata": {},
   "outputs": [],
   "source": [
    "##########################\n",
    "# save pycistopic object #\n",
    "##########################\n",
    "\n",
    "# location to store the object\n",
    "pycistopic_object_loc = '/groups/umcg-franke-scrna/tmp04/external_datasets/10x_multiome_10k_pbmcs/pycistopic/reconstructed/10k_initial_pycistopic_object.pkl'\n",
    "\n",
    "# save the object\n",
    "with open(pycistopic_object_loc, 'wb') as f:\n",
    "   pickle.dump(cistopic_obj, f)\n"
   ]
  },
  {
   "cell_type": "code",
   "execution_count": null,
   "id": "d2fb87b4-0112-4d66-9c93-0af0e6282f5a",
   "metadata": {},
   "outputs": [],
   "source": [
    "#################################\n",
    "# set paths for topic modelling #\n",
    "#################################\n",
    "\n",
    "# LDA will use Mallet, set the memory to be large enough\n",
    "os.environ['MALLET_MEMORY'] = '100'\n",
    "\n",
    "# path to the Mallet binary\n",
    "mallet_path = '/groups/umcg-franke-scrna/tmp04/software/Mallet-202108/bin/mallet'\n",
    "\n",
    "# set temp directory\n",
    "tmp_directory = '/groups/umcg-franke-scrna/tmp04/external_datasets/10x_multiome_10k_pbmcs/pycistopic/tmp_space/'\n",
    "\n",
    "# set where we save the pickles\n",
    "models_save_loc = '/groups/umcg-franke-scrna/tmp04/external_datasets/10x_multiome_10k_pbmcs/pycistopic/models/'\n"
   ]
  }
 ],
 "metadata": {
  "kernelspec": {
   "display_name": "Python 3 (ipykernel)",
   "language": "python",
   "name": "python3"
  },
  "language_info": {
   "codemirror_mode": {
    "name": "ipython",
    "version": 3
   },
   "file_extension": ".py",
   "mimetype": "text/x-python",
   "name": "python",
   "nbconvert_exporter": "python",
   "pygments_lexer": "ipython3",
   "version": "3.11.8"
  }
 },
 "nbformat": 4,
 "nbformat_minor": 5
}
